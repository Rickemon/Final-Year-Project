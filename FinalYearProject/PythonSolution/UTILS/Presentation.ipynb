{
  "nbformat": 4,
  "nbformat_minor": 0,
  "metadata": {
    "colab": {
      "provenance": []
    },
    "kernelspec": {
      "name": "python3",
      "display_name": "Python 3"
    },
    "language_info": {
      "name": "python"
    }
  },
  "cells": [
    {
      "cell_type": "code",
      "execution_count": null,
      "metadata": {
        "colab": {
          "base_uri": "https://localhost:8080/"
        },
        "id": "PvepW8TdqDxY",
        "outputId": "ab532b3d-d5da-4188-b4a6-12f09c7f2ece"
      },
      "outputs": [
        {
          "output_type": "stream",
          "name": "stdout",
          "text": [
            "Mounted at /content/drive\n"
          ]
        }
      ],
      "source": [
        "from google.colab import drive\n",
        "drive.mount('/content/drive')"
      ]
    },
    {
      "cell_type": "code",
      "source": [
        "import os\n",
        "import cv2\n",
        "import pandas as pd\n",
        "from google.colab.patches import cv2_imshow"
      ],
      "metadata": {
        "id": "r6WwEwdyqJy1"
      },
      "execution_count": null,
      "outputs": []
    },
    {
      "cell_type": "code",
      "source": [
        "root = '/content/drive/MyDrive/Final Year Project/Data'#training data comes from multiple sources and they are stored in this folder"
      ],
      "metadata": {
        "id": "tHSwIPWiqNTt"
      },
      "execution_count": null,
      "outputs": []
    },
    {
      "cell_type": "code",
      "source": [
        "imageDirs = [root+'/G1020/Images', root+'/ORIGA/Images']\n",
        "ROIMaskDirs = [root+'/G1020/ROI', root+'/ORIGA/ROI']\n",
        "segmentedMaskDirs = [root+'/G1020/Masks', root+'/ORIGA/Masks']"
      ],
      "metadata": {
        "id": "dIgD1Mh-qTf1"
      },
      "execution_count": null,
      "outputs": []
    },
    {
      "cell_type": "code",
      "source": [
        "for root, dirs, files in os.walk(imageDirs[0]):\n",
        "    for file in files:\n",
        "        if file.endswith('.json'):\n",
        "            os.remove(os.path.join(root, file))"
      ],
      "metadata": {
        "id": "k89xvXcRqT89"
      },
      "execution_count": null,
      "outputs": []
    },
    {
      "cell_type": "code",
      "source": [
        "imagePaths = []\n",
        "for dir in imageDirs:\n",
        "    imagePaths.extend([os.path.join(dir, f) for f in sorted(os.listdir(dir))])\n",
        "\n",
        "ROIMaskPaths = []\n",
        "for dir in ROIMaskDirs:\n",
        "    ROIMaskPaths.extend([os.path.join(dir, f) for f in sorted(os.listdir(dir))])\n",
        "    \n",
        "segmentedMaskPaths = []\n",
        "for dir in segmentedMaskDirs:\n",
        "    segmentedMaskPaths.extend([os.path.join(dir, f) for f in sorted(os.listdir(dir))])"
      ],
      "metadata": {
        "colab": {
          "base_uri": "https://localhost:8080/",
          "height": 235
        },
        "id": "c0Ka4-QAqYUF",
        "outputId": "3fd46a1c-1684-491f-cc0d-4086b69f2cd2"
      },
      "execution_count": null,
      "outputs": [
        {
          "output_type": "error",
          "ename": "FileNotFoundError",
          "evalue": "ignored",
          "traceback": [
            "\u001b[0;31m---------------------------------------------------------------------------\u001b[0m",
            "\u001b[0;31mFileNotFoundError\u001b[0m                         Traceback (most recent call last)",
            "\u001b[0;32m<ipython-input-14-c655c359185a>\u001b[0m in \u001b[0;36m<cell line: 6>\u001b[0;34m()\u001b[0m\n\u001b[1;32m      5\u001b[0m \u001b[0mROIMaskPaths\u001b[0m \u001b[0;34m=\u001b[0m \u001b[0;34m[\u001b[0m\u001b[0;34m]\u001b[0m\u001b[0;34m\u001b[0m\u001b[0;34m\u001b[0m\u001b[0m\n\u001b[1;32m      6\u001b[0m \u001b[0;32mfor\u001b[0m \u001b[0mdir\u001b[0m \u001b[0;32min\u001b[0m \u001b[0mROIMaskDirs\u001b[0m\u001b[0;34m:\u001b[0m\u001b[0;34m\u001b[0m\u001b[0;34m\u001b[0m\u001b[0m\n\u001b[0;32m----> 7\u001b[0;31m     \u001b[0mROIMaskPaths\u001b[0m\u001b[0;34m.\u001b[0m\u001b[0mextend\u001b[0m\u001b[0;34m(\u001b[0m\u001b[0;34m[\u001b[0m\u001b[0mos\u001b[0m\u001b[0;34m.\u001b[0m\u001b[0mpath\u001b[0m\u001b[0;34m.\u001b[0m\u001b[0mjoin\u001b[0m\u001b[0;34m(\u001b[0m\u001b[0mdir\u001b[0m\u001b[0;34m,\u001b[0m \u001b[0mf\u001b[0m\u001b[0;34m)\u001b[0m \u001b[0;32mfor\u001b[0m \u001b[0mf\u001b[0m \u001b[0;32min\u001b[0m \u001b[0msorted\u001b[0m\u001b[0;34m(\u001b[0m\u001b[0mos\u001b[0m\u001b[0;34m.\u001b[0m\u001b[0mlistdir\u001b[0m\u001b[0;34m(\u001b[0m\u001b[0mdir\u001b[0m\u001b[0;34m)\u001b[0m\u001b[0;34m)\u001b[0m\u001b[0;34m]\u001b[0m\u001b[0;34m)\u001b[0m\u001b[0;34m\u001b[0m\u001b[0;34m\u001b[0m\u001b[0m\n\u001b[0m\u001b[1;32m      8\u001b[0m \u001b[0;34m\u001b[0m\u001b[0m\n\u001b[1;32m      9\u001b[0m \u001b[0msegmentedMaskPaths\u001b[0m \u001b[0;34m=\u001b[0m \u001b[0;34m[\u001b[0m\u001b[0;34m]\u001b[0m\u001b[0;34m\u001b[0m\u001b[0;34m\u001b[0m\u001b[0m\n",
            "\u001b[0;31mFileNotFoundError\u001b[0m: [Errno 2] No such file or directory: '/content/drive/MyDrive/Final Year Project/Data/G1020/ROI'"
          ]
        }
      ]
    },
    {
      "cell_type": "code",
      "source": [
        "for i in range(len(imagePaths)):\n",
        "    image = cv2.imread(imagePaths[i])\n",
        "    ROIMask = cv2.imread(ROIMaskPaths[i], 0)\n",
        "    mask = cv2.imread(segmentedMaskPaths[i], 0)\n",
        "\n",
        "    contours, _ = cv2.findContours(ROIMask, cv2.RETR_TREE, cv2.CHAIN_APPROX_SIMPLE)\n",
        "\n",
        "    x,y,w,h = cv2.boundingRect(contours[0])\n",
        "\n",
        "    croppedImage = image[y:y+h, x:x+w]\n",
        "    croppedMask = mask[y:y+h, x:x+w]\n",
        "    \n",
        "    newImagePath = imagePaths[i].replace('/Images/', '/CroppedImages/')\n",
        "    newMaskPath = segmentedMaskPaths[i].replace('/Masks/', '/CroppedMasks/')\n",
        "\n",
        "    os.makedirs(os.path.dirname(newImagePath), exist_ok=True)\n",
        "    os.makedirs(os.path.dirname(newMaskPath), exist_ok=True)\n",
        "\n",
        "    cv2.imwrite(newImagePath, croppedImage)\n",
        "    cv2.imwrite(newMaskPath , croppedMask)"
      ],
      "metadata": {
        "id": "XXzn_GgeqZYN"
      },
      "execution_count": null,
      "outputs": []
    }
  ]
}