{
  "nbformat": 4,
  "nbformat_minor": 0,
  "metadata": {
    "colab": {
      "provenance": []
    },
    "kernelspec": {
      "name": "python3",
      "display_name": "Python 3"
    },
    "language_info": {
      "name": "python"
    }
  },
  "cells": [
    {
      "cell_type": "code",
      "execution_count": null,
      "metadata": {
        "colab": {
          "base_uri": "https://localhost:8080/"
        },
        "id": "ON1OGUr_EuzD",
        "outputId": "bd2bbe18-779f-4371-e16d-0a2c0c8c676a"
      },
      "outputs": [
        {
          "output_type": "stream",
          "name": "stdout",
          "text": [
            "Mounted at /content/drive\n"
          ]
        }
      ],
      "source": [
        "from google.colab import drive\n",
        "drive.mount('/content/drive')"
      ]
    },
    {
      "cell_type": "code",
      "source": [
        "import os\n",
        "import cv2\n",
        "import pandas as pd\n",
        "from google.colab.patches import cv2_imshow"
      ],
      "metadata": {
        "id": "JJ4CYdF_GJbD"
      },
      "execution_count": null,
      "outputs": []
    },
    {
      "cell_type": "code",
      "source": [
        "root = '...'#training data comes from multiple sources and they are stored in this folder"
      ],
      "metadata": {
        "id": "u2mnpHcCGJpq"
      },
      "execution_count": null,
      "outputs": []
    },
    {
      "cell_type": "code",
      "source": [
        "imageDirs = [root+'/G1020/Images', root+'/ORIGA/Images',root+'/REFUGE/Images',root+'/PAPILA/Images']\n",
        "ROIMaskDirs = [root+'/G1020/ROI', root+'/ORIGA/ROI',root+'/REFUGE/ROI', root+'/PAPILA/ROI']\n",
        "segmentedMaskDirs = [root+'/G1020/Masks', root+'/ORIGA/Masks',root+'/REFUGE/Masks',root+'/PAPILA/Masks']"
      ],
      "metadata": {
        "id": "q5zNIy6SdOOb"
      },
      "execution_count": null,
      "outputs": []
    },
    {
      "cell_type": "code",
      "source": [
        "for root, dirs, files in os.walk(imageDirs[0]):\n",
        "    for file in files:\n",
        "        if file.endswith('.json'):\n",
        "            os.remove(os.path.join(root, file))"
      ],
      "metadata": {
        "id": "gkVKAaktdekR"
      },
      "execution_count": null,
      "outputs": []
    },
    {
      "cell_type": "code",
      "source": [
        "imagePaths = []\n",
        "for dir in imageDirs:\n",
        "    imagePaths.extend([os.path.join(dir, f) for f in sorted(os.listdir(dir))])\n",
        "\n",
        "ROIMaskPaths = []\n",
        "for dir in ROIMaskDirs:\n",
        "    ROIMaskPaths.extend([os.path.join(dir, f) for f in sorted(os.listdir(dir))])\n",
        "    \n",
        "segmentedMaskPaths = []\n",
        "for dir in segmentedMaskDirs:\n",
        "    segmentedMaskPaths.extend([os.path.join(dir, f) for f in sorted(os.listdir(dir))])\n"
      ],
      "metadata": {
        "id": "zf6_TbJIMAha"
      },
      "execution_count": null,
      "outputs": []
    },
    {
      "cell_type": "code",
      "source": [
        "for i in range(len(imagePaths)):\n",
        "    image = cv2.imread(imagePaths[i])\n",
        "    ROIMask = cv2.imread(ROIMaskPaths[i], 0)\n",
        "    mask = cv2.imread(segmentedMaskPaths[i], 0)\n",
        "\n",
        "    contours, _ = cv2.findContours(ROIMask, cv2.RETR_TREE, cv2.CHAIN_APPROX_SIMPLE)\n",
        "\n",
        "    x,y,w,h = cv2.boundingRect(contours[0])\n",
        "\n",
        "    croppedImage = image[y:y+h, x:x+w]\n",
        "    croppedMask = mask[y:y+h, x:x+w]\n",
        "    \n",
        "    newImagePath = imagePaths[i].replace('/Images/', '/CroppedImages/')\n",
        "    newMaskPath = segmentedMaskPaths[i].replace('/Masks/', '/CroppedMasks/')\n",
        "\n",
        "    os.makedirs(os.path.dirname(newImagePath), exist_ok=True)\n",
        "    os.makedirs(os.path.dirname(newMaskPath), exist_ok=True)\n",
        "\n",
        "    cv2.imwrite(newImagePath, croppedImage)\n",
        "    cv2.imwrite(newMaskPath , croppedMask)"
      ],
      "metadata": {
        "id": "Ebqc7XU8fJgW"
      },
      "execution_count": null,
      "outputs": []
    }
  ]
}