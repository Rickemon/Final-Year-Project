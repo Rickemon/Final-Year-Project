{
  "nbformat": 4,
  "nbformat_minor": 0,
  "metadata": {
    "colab": {
      "provenance": []
    },
    "kernelspec": {
      "name": "python3",
      "display_name": "Python 3"
    },
    "language_info": {
      "name": "python"
    },
    "accelerator": "GPU",
    "gpuClass": "standard"
  },
  "cells": [
    {
      "cell_type": "code",
      "execution_count": null,
      "metadata": {
        "colab": {
          "base_uri": "https://localhost:8080/"
        },
        "id": "4qvSsOSlDYBo",
        "outputId": "e5ac2322-26bf-4a02-ed6b-9f41b0efe621"
      },
      "outputs": [
        {
          "output_type": "stream",
          "name": "stdout",
          "text": [
            "Drive already mounted at /content/drive; to attempt to forcibly remount, call drive.mount(\"/content/drive\", force_remount=True).\n"
          ]
        }
      ],
      "source": [
        "from google.colab import drive\n",
        "drive.mount('/content/drive')\n",
        "import tensorflow as tf\n",
        "import keras\n",
        "from keras.models import Model\n",
        "from keras.layers import Input, Conv2D, MaxPooling2D, Dropout, UpSampling2D, concatenate, Lambda, Concatenate\n",
        "from keras.optimizers import Adam\n",
        "import numpy as np\n",
        "import matplotlib.pyplot as plt\n",
        "import os\n",
        "import pandas as pd\n",
        "import cv2 as cv\n",
        "from scipy.signal import resample\n",
        "from google.colab.patches import cv2_imshow"
      ]
    },
    {
      "cell_type": "code",
      "source": [
        "from keras.applications import VGG16"
      ],
      "metadata": {
        "id": "YpAu3HfcvHQ0"
      },
      "execution_count": null,
      "outputs": []
    },
    {
      "cell_type": "code",
      "source": [
        "root = '/content/drive/MyDrive/Final Year Project  /Training Data/PapilaDB-PAPILA-9c67b80983805f0f886b068af800ef2b507e7dc0/'"
      ],
      "metadata": {
        "id": "3YPbRJq9LR5s"
      },
      "execution_count": null,
      "outputs": []
    },
    {
      "cell_type": "code",
      "source": [
        "from keras.applications import MobileNetV2\n",
        "from keras.layers import Conv2DTranspose, concatenate\n",
        "from keras.models import Model"
      ],
      "metadata": {
        "id": "nnlo-fdV3v8s"
      },
      "execution_count": null,
      "outputs": []
    },
    {
      "cell_type": "code",
      "source": [
        "model.summary()"
      ],
      "metadata": {
        "id": "QlTUGWdFJXVo"
      },
      "execution_count": null,
      "outputs": []
    },
    {
      "cell_type": "code",
      "source": [
        "base_model = MobileNetV2(input_shape=(256, 256, 3), include_top=False, weights='imagenet')\n",
        "\n",
        "for layer in base_model.layers:\n",
        "    layer.trainable = False\n",
        "\n",
        "inputs = base_model.input\n",
        "\n",
        "# Get the output from the last layer of the base model\n",
        "x = base_model.layers[-1].output\n",
        "\n",
        "# Add the decoder layers\n",
        "x = Conv2DTranspose(256, (2, 2), strides=(2, 2),activation='relu', padding='same')(x)\n",
        "x = concatenate([x, base_model.get_layer('block_13_expand_relu').output], axis=-1)\n",
        "x = Conv2DTranspose(128, (2, 2), strides=(2, 2),activation='relu', padding='same')(x)\n",
        "x = concatenate([x, base_model.get_layer('block_6_expand_relu').output], axis=-1)\n",
        "x = Conv2DTranspose(64, (2, 2), strides=(2, 2),activation='relu', padding='same')(x)\n",
        "x = concatenate([x, base_model.get_layer('block_3_expand_relu').output], axis=-1)\n",
        "x = Conv2DTranspose(32, (2, 2), strides=(2, 2),activation='relu', padding='same')(x)\n",
        "x = concatenate([x, base_model.get_layer('block_1_expand_relu').output], axis=-1)\n",
        "x = Conv2DTranspose(16, (2, 2), strides=(2, 2), activation='relu', padding='same')(x)\n",
        "x = Conv2DTranspose(3, (1, 1), activation='softmax')(x)\n",
        "# Define the model\n",
        "model = Model(inputs, x)\n",
        "\n",
        "model.compile(optimizer='adam', loss='mean_squared_error', metrics=['accuracy'])\n"
      ],
      "metadata": {
        "id": "RqqurYG6Da-E",
        "colab": {
          "base_uri": "https://localhost:8080/"
        },
        "outputId": "a51d38f8-af43-491f-fff9-123e65c02819"
      },
      "execution_count": null,
      "outputs": [
        {
          "output_type": "stream",
          "name": "stderr",
          "text": [
            "WARNING:tensorflow:`input_shape` is undefined or non-square, or `rows` is not in [96, 128, 160, 192, 224]. Weights for input shape (224, 224) will be loaded as the default.\n"
          ]
        }
      ]
    },
    {
      "cell_type": "code",
      "source": [
        "model.summary()"
      ],
      "metadata": {
        "id": "3qUicZ5SIZ7F"
      },
      "execution_count": null,
      "outputs": []
    },
    {
      "cell_type": "markdown",
      "source": [
        "Load training images"
      ],
      "metadata": {
        "id": "8HTU9JomO_Hv"
      }
    },
    {
      "cell_type": "code",
      "source": [
        "img_names = sorted(os.listdir(root + \"FundusImages\"))\n",
        "images = np.empty((int(len(img_names)*2), 256, 256, 3),dtype=np.uint8)\n",
        "done = 0\n",
        "for i in img_names:\n",
        "  image = (cv.imread(root + \"FundusImagesResized/\" + i))\n",
        "  images[done*2] = image\n",
        "  images[done*2+1] = image\n",
        "  done +=1\n",
        "  print(str(int(100* (done/488)))+'% done')"
      ],
      "metadata": {
        "id": "m9ZQvdrmLGcc"
      },
      "execution_count": null,
      "outputs": []
    },
    {
      "cell_type": "markdown",
      "source": [
        "Load training masks"
      ],
      "metadata": {
        "id": "WcVNSjQ0PCEt"
      }
    },
    {
      "cell_type": "code",
      "source": [
        "mask_names = sorted(os.listdir(root + \"ExpertsSegmentations/Masks\"))\n",
        "masks = np.empty((int(len(mask_names)), 256, 256, 3),dtype=np.uint8)\n",
        "done = 0\n",
        "for i in mask_names:\n",
        "  image = cv.imread(root + \"ExpertsSegmentations/Masks/\"+ i[:8]+'_exp1.png')\n",
        "  masks[done] = image\n",
        "  done +=1\n",
        "  print(str(int(100* (done/976)))+'% done')"
      ],
      "metadata": {
        "id": "3MVT1QuBMyCU"
      },
      "execution_count": null,
      "outputs": []
    },
    {
      "cell_type": "markdown",
      "source": [
        "Split Testing and training data"
      ],
      "metadata": {
        "id": "zfcEFH4SPKZR"
      }
    },
    {
      "cell_type": "code",
      "source": [
        "train_images = images[:488]\n",
        "train_masks = masks[:488]\n",
        "val_images = images[488:]\n",
        "val_masks = masks[488:]"
      ],
      "metadata": {
        "id": "7yJ-Nt5HNkFk"
      },
      "execution_count": null,
      "outputs": []
    },
    {
      "cell_type": "markdown",
      "source": [
        "Train model"
      ],
      "metadata": {
        "id": "whAw6vHBPN5X"
      }
    },
    {
      "cell_type": "code",
      "source": [
        "model.fit(\n",
        "    train_images,\n",
        "    train_masks,\n",
        "    batch_size=10,\n",
        "    epochs=10,\n",
        "    validation_data=(val_images, val_masks))"
      ],
      "metadata": {
        "id": "MOsR_VNANxb8"
      },
      "execution_count": null,
      "outputs": []
    },
    {
      "cell_type": "code",
      "source": [
        "predicions = model.predict(images)\n",
        "one_hot_preds = tf.one_hot(tf.argmax(predicions, axis=-1), depth=3)\n",
        "from tensorflow.python.ops.numpy_ops import np_config\n",
        "np_config.enable_numpy_behavior()\n",
        "one_hot_preds = cv.convertScaleAbs(one_hot_preds.numpy().clip(0, 1))"
      ],
      "metadata": {
        "colab": {
          "base_uri": "https://localhost:8080/"
        },
        "id": "iZbdRsrwvWPI",
        "outputId": "f9116090-e22d-466c-fa67-e6bb71254b45"
      },
      "execution_count": null,
      "outputs": [
        {
          "output_type": "stream",
          "name": "stdout",
          "text": [
            "16/16 [==============================] - 11s 429ms/step\n"
          ]
        }
      ]
    },
    {
      "cell_type": "code",
      "source": [
        "mask_names = sorted(os.listdir(root + \"FundusImages\"))\n",
        "output = root+'ExpertsSegmentations/MasksPredicted'\n",
        "done = 0\n",
        "for i in mask_names:\n",
        "  cv.imwrite((output+'/'+ i[:8]+'mask.png'),one_hot_preds[done]) \n",
        "  done +=1\n",
        "  print(str(int(200* (done/976)))+'% done')"
      ],
      "metadata": {
        "id": "u5gUgHUJ3Fw7"
      },
      "execution_count": null,
      "outputs": []
    },
    {
      "cell_type": "code",
      "source": [
        "mask_names = sorted(os.listdir(root + \"ExpertsSegmentations/MasksPredicted\"))\n",
        "masks = np.empty((int(len(mask_names)), 256, 256, 3))\n",
        "done = 0\n",
        "for i in mask_names:\n",
        "  image = cv.imread(output+'/'+ i)\n",
        "  masks[done] = image\n",
        "  done +=1\n",
        "  print(str(int(100* (done/488)))+'% done')"
      ],
      "metadata": {
        "id": "mTcSxK2Hbi4t"
      },
      "execution_count": null,
      "outputs": []
    },
    {
      "cell_type": "code",
      "source": [
        "img_names[12]"
      ],
      "metadata": {
        "id": "vEc7jb47fEZ5"
      },
      "execution_count": null,
      "outputs": []
    },
    {
      "cell_type": "code",
      "source": [
        "cv2_imshow(image)"
      ],
      "metadata": {
        "id": "N-uNcPVcfKHi",
        "colab": {
          "base_uri": "https://localhost:8080/",
          "height": 273
        },
        "outputId": "416618dc-741c-405d-a7a7-fcbabc62162f"
      },
      "execution_count": null,
      "outputs": [
        {
          "output_type": "display_data",
          "data": {
            "text/plain": [
              "<PIL.Image.Image image mode=RGB size=256x256 at 0x7F5360470610>"
            ],
            "image/png": "[encoded data removed]"
          },
          "metadata": {}
        }
      ]
    },
    {
      "cell_type": "code",
      "source": [
        "cv2_imshow(masks[6]*255)"
      ],
      "metadata": {
        "id": "F7Qk6NSjfzKR",
        "colab": {
          "base_uri": "https://localhost:8080/",
          "height": 273
        },
        "outputId": "4e298cbb-6e94-4013-92b0-c8c3f0bd9e5a"
      },
      "execution_count": null,
      "outputs": [
        {
          "output_type": "display_data",
          "data": {
            "text/plain": [
              "<PIL.Image.Image image mode=RGB size=256x256 at 0x7F53F40915B0>"
            ],
            "image/png": "[encoded data removed]"
          },
          "metadata": {}
        }
      ]
    },
    {
      "cell_type": "code",
      "source": [
        "cv2_imshow(one_hot_preds[4]*255)"
      ],
      "metadata": {
        "id": "z0YE6IgRhPnx"
      },
      "execution_count": null,
      "outputs": []
    },
    {
      "cell_type": "code",
      "source": [
        "model.save('/content/drive/MyDrive/Final Year Project/Models/Exstract6.h5')"
      ],
      "metadata": {
        "id": "hJKfqzeZnuWJ"
      },
      "execution_count": null,
      "outputs": []
    },
    {
      "cell_type": "code",
      "source": [
        "model = keras.models.load_model('/content/drive/MyDrive/Final Year Project/Models/Exstract4.h5')"
      ],
      "metadata": {
        "id": "dQjy-j20kMpq"
      },
      "execution_count": null,
      "outputs": []
    },
    {
      "cell_type": "code",
      "source": [
        "cv2_imshow(x)"
      ],
      "metadata": {
        "id": "7Gr6OCqk95fv"
      },
      "execution_count": null,
      "outputs": []
    },
    {
      "cell_type": "code",
      "source": [
        "cv.drawContours(x, [cup_contour], -1, (0, 0, 0), 2)"
      ],
      "metadata": {
        "id": "rGqIyXM_A79Y"
      },
      "execution_count": null,
      "outputs": []
    },
    {
      "cell_type": "code",
      "source": [
        "one_hot_preds = cv.convertScaleAbs(masks.clip(0, 1))"
      ],
      "metadata": {
        "id": "qaPSoD4sTubi"
      },
      "execution_count": null,
      "outputs": []
    },
    {
      "cell_type": "code",
      "source": [
        "concatenated_list = [\n",
        "preds = one_hot_preds *255\n",
        "done = 0\n",
        "for i in preds:\n",
        "  # Convert to grayscale\n",
        "  gray = cv.cvtColor(i, cv.COLOR_BGR2GRAY)\n",
        "  # Apply median blur\n",
        "  gray_blur = cv.medianBlur(gray, 5)\n",
        "\n",
        "  ret, thresh1 = cv.threshold(gray_blur, 90, 255, 0)\n",
        "  ret, thresh2 = cv.threshold(gray_blur, 60, 255, 0)\n",
        "\n",
        "  thresh2[thresh1==255] = 0\n",
        "\n",
        "  contours1, hierarchy1 = cv.findContours(thresh1, cv.RETR_TREE, cv.CHAIN_APPROX_SIMPLE)\n",
        "  contours2, hierarchy2 = cv.findContours(thresh2, cv.RETR_TREE, cv.CHAIN_APPROX_SIMPLE)\n",
        "  if(len(contours1)>0 and len(contours2)>0):\n",
        "    contours1 = np.array(contours1[0])\n",
        "    contours2 = np.array(contours2[0])\n",
        "\n",
        "    contours1 = np.squeeze(contours1)\n",
        "    contours2 = np.squeeze(contours2)\n",
        "    target_size = 16\n",
        "    current_size = contours1[0].shape[0]\n",
        "\n",
        "    if current_size > target_size:\n",
        "        factor = int(current_size / target_size)\n",
        "        contours1[0] = resample(contours1[0], target_size, axis=0)\n",
        "\n",
        "    elif current_size < target_size:\n",
        "        factor = int(target_size / current_size)\n",
        "        contours1 = np.repeat(contours1, factor, axis=0)\n",
        "        contours1 = resample(contours1, target_size, axis=0)\n",
        "    current_size = contours2.shape[0]\n",
        "\n",
        "    if current_size > target_size:\n",
        "        factor = int(current_size / target_size)\n",
        "        contours2 = resample(contours2, target_size, axis=0)\n",
        "\n",
        "    elif current_size < target_size:\n",
        "        factor = int(target_size / current_size)\n",
        "        contours2 = np.repeat(contours2, factor, axis=0)\n",
        "        contours2 = resample(contours2, target_size, axis=0)\n",
        "\n",
        "    concatenated_array = np.concatenate((contours1, contours2), axis=0)\n",
        "    concatenated_array = np.reshape(concatenated_array, (2, 16, 2))\n",
        "    concatenated_list.append(concatenated_array)\n",
        "\n",
        "  done +=1\n",
        "  print(str(int(100* (done/488)))+'% done')\n",
        "concatenated_array = np.array(concatenated_list)\n",
        "\n",
        "print(len(concatenated_array))\n",
        "print(concatenated_array[0].shape)"
      ],
      "metadata": {
        "id": "pn_dD7Mw-WSn"
      },
      "execution_count": null,
      "outputs": []
    },
    {
      "cell_type": "code",
      "source": [
        "np.savetxt((root + 'ExpertsSegmentations/ConcatenatedPredicted/concatenated_array.csv'), concatenated_array.reshape(-1, 32), delimiter=\",\") "
      ],
      "metadata": {
        "id": "ElljeM6MBHR0"
      },
      "execution_count": null,
      "outputs": []
    },
    {
      "cell_type": "code",
      "source": [
        "concatenated_array = np.loadtxt(root+'/ExpertsSegmentations/ConcatenatedPredicted/concatenated_array.csv', delimiter=',')\n",
        "concatenated_array = concatenated_array.reshape(-1, 2, 16, 2)\n",
        "print(concatenated_array.shape)"
      ],
      "metadata": {
        "id": "D32HX_CiBXe7"
      },
      "execution_count": null,
      "outputs": []
    },
    {
      "cell_type": "code",
      "source": [
        "image = cv.imread('/content/RET002OD.jpg')\n",
        "image = np.expand_dims(image, axis=0)"
      ],
      "metadata": {
        "id": "mJ7rNWrRp2wr"
      },
      "execution_count": null,
      "outputs": []
    },
    {
      "cell_type": "code",
      "source": [
        "predicions = model.predict(image)\n",
        "one_hot_preds = tf.one_hot(tf.argmax(predicions, axis=-1), depth=3)\n",
        "from tensorflow.python.ops.numpy_ops import np_config\n",
        "np_config.enable_numpy_behavior()\n",
        "one_hot_preds = cv.convertScaleAbs(one_hot_preds.numpy().clip(0, 1))"
      ],
      "metadata": {
        "id": "Dtf61R7mqCN7"
      },
      "execution_count": null,
      "outputs": []
    }
  ]
}