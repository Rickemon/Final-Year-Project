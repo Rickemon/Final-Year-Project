{
  "nbformat": 4,
  "nbformat_minor": 0,
  "metadata": {
    "colab": {
      "provenance": []
    },
    "kernelspec": {
      "name": "python3",
      "display_name": "Python 3"
    },
    "language_info": {
      "name": "python"
    },
    "gpuClass": "standard",
    "accelerator": "GPU"
  },
  "cells": [
    {
      "cell_type": "code",
      "execution_count": null,
      "metadata": {
        "colab": {
          "base_uri": "https://localhost:8080/"
        },
        "id": "ON1OGUr_EuzD",
        "outputId": "41b9c24e-7324-4c9b-b997-f337afa9e158"
      },
      "outputs": [
        {
          "output_type": "stream",
          "name": "stdout",
          "text": [
            "Mounted at /content/drive\n"
          ]
        }
      ],
      "source": [
        "from google.colab import drive\n",
        "drive.mount('/content/drive')"
      ]
    },
    {
      "cell_type": "code",
      "source": [
        "import os\n",
        "import cv2\n",
        "import pandas as pd\n",
        "import numpy as np\n",
        "from google.colab.patches import cv2_imshow\n",
        "import tensorflow as tf\n",
        "from tensorflow import keras\n",
        "from tensorflow.keras.preprocessing.image import ImageDataGenerator\n",
        "from tensorflow.keras.models import Sequential, Model \n",
        "from sklearn.utils.class_weight import compute_class_weight \n",
        "from tensorflow.keras.layers import Conv2D, MaxPooling2D, Flatten, Dense, Dropout,  GlobalAveragePooling2D\n",
        "from tensorflow.keras.applications.vgg16 import VGG16\n",
        "from tensorflow.keras.applications.inception_v3 import InceptionV3\n",
        "from tensorflow.keras.applications.resnet50 import ResNet50\n",
        "from tensorflow.keras.applications.mobilenet_v2 import MobileNetV2"
      ],
      "metadata": {
        "id": "JJ4CYdF_GJbD"
      },
      "execution_count": null,
      "outputs": []
    },
    {
      "cell_type": "markdown",
      "source": [
        "Setting up on-demand loading"
      ],
      "metadata": {
        "id": "thHzd1LoXiAw"
      }
    },
    {
      "cell_type": "code",
      "source": [
        "root = '/content/drive/MyDrive/Final Year Project/Data'#training data comes from multiple sources and they are stored in the 'data' folder"
      ],
      "metadata": {
        "id": "u2mnpHcCGJpq"
      },
      "execution_count": null,
      "outputs": []
    },
    {
      "cell_type": "code",
      "source": [
        "input_dirs = [root+'/G1020/Images_Cropped/img', root+'/ORIGA/Images_Cropped']\n",
        "labels = [root+'/G1020/G1020.csv', root+'/ORIGA/OrigaList.csv']"
      ],
      "metadata": {
        "id": "P5lZdxHkMCeD"
      },
      "execution_count": null,
      "outputs": []
    },
    {
      "cell_type": "code",
      "source": [
        "input_files = []\n",
        "for dir in input_dirs:\n",
        "    input_files.extend([os.path.join(dir, f) for f in sorted(os.listdir(dir))])\n",
        "\n",
        "df1 = pd.read_csv(labels[0])\n",
        "df2 = pd.read_csv(labels[1])\n",
        "\n",
        "col1 = df1.iloc[:, 1].tolist()\n",
        "col2 = df2.iloc[:, 4].tolist()\n",
        "new_col = col1 + col2\n",
        "\n",
        "data = pd.DataFrame({'Input': input_files, 'Label': new_col})\n",
        "data['Label'] = data['Label'].astype(str)"
      ],
      "metadata": {
        "id": "8DXfcBhRCzDn"
      },
      "execution_count": null,
      "outputs": []
    },
    {
      "cell_type": "code",
      "source": [
        "class_weights = compute_class_weight('balanced', classes=['0', '1'], y=data['Label'])\n",
        "\n",
        "datagen = ImageDataGenerator(\n",
        "    rescale=1./255,\n",
        "    rotation_range=10,\n",
        "    zoom_range=0.1,\n",
        "    width_shift_range=0.1,\n",
        "    height_shift_range=0.1,\n",
        "    horizontal_flip=True,\n",
        "    vertical_flip=False,\n",
        "    fill_mode='nearest')\n",
        "\n",
        "generator = datagen.flow_from_dataframe(\n",
        "    dataframe=data,\n",
        "    x_col='Input',\n",
        "    y_col='Label',\n",
        "    target_size=(256, 256), \n",
        "    batch_size=32,\n",
        "    shuffle=True, \n",
        "    class_mode='binary',\n",
        "    class_weight={'0': class_weights[0], '1': class_weights[1]})"
      ],
      "metadata": {
        "colab": {
          "base_uri": "https://localhost:8080/"
        },
        "id": "RTjZK_BYHOsU",
        "outputId": "cc6dd1af-22f5-4db1-b3a1-7aeec33fec6e"
      },
      "execution_count": null,
      "outputs": [
        {
          "output_type": "stream",
          "name": "stdout",
          "text": [
            "Found 1670 validated image filenames belonging to 2 classes.\n"
          ]
        }
      ]
    },
    {
      "cell_type": "code",
      "source": [
        "base_model = VGG16(weights='imagenet', include_top=False, input_shape=(256, 256, 3))\n",
        "\n",
        "for layer in base_model.layers:\n",
        "    layer.trainable = False\n",
        "\n",
        "x = Flatten()(base_model.output)\n",
        "x = Dense(512, activation='relu')(x)\n",
        "x = Dense(1, activation='sigmoid')(x)\n",
        "\n",
        "model = Model(inputs=base_model.input, outputs=x)\n",
        "\n",
        "# Compile the model\n",
        "model.compile(optimizer='adam', loss='binary_crossentropy', metrics=['accuracy'])\n"
      ],
      "metadata": {
        "id": "S6-v5ewzOmbp"
      },
      "execution_count": null,
      "outputs": []
    },
    {
      "cell_type": "code",
      "source": [
        "model.fit(generator, steps_per_epoch=len(data) // 32, epochs=90)"
      ],
      "metadata": {
        "id": "QYupQKFhOnDf"
      },
      "execution_count": null,
      "outputs": []
    },
    {
      "cell_type": "code",
      "source": [
        "keras.models.save_model(model, '/content/drive/MyDrive/Final Year Project/Models/ImageClassifierCNN.h5')"
      ],
      "metadata": {
        "id": "qow9l4ijQZl7"
      },
      "execution_count": null,
      "outputs": []
    },
    {
      "cell_type": "code",
      "source": [
        "model = keras.models.load_model('/content/drive/MyDrive/Final Year Project/Models/ImageClassifierCNN.h5')"
      ],
      "metadata": {
        "id": "qU-abolr_7rQ"
      },
      "execution_count": null,
      "outputs": []
    },
    {
      "cell_type": "code",
      "source": [
        "model.summary()"
      ],
      "metadata": {
        "id": "BswPMqCiAGfk"
      },
      "execution_count": null,
      "outputs": []
    },
    {
      "cell_type": "code",
      "source": [
        "base_model = InceptionV3(weights='imagenet', include_top=False, input_shape=(256, 256, 3))\n",
        "\n",
        "for layer in base_model.layers:\n",
        "    layer.trainable = False\n",
        "\n",
        "x = GlobalAveragePooling2D()(base_model.output)\n",
        "x = Dense(512, activation='relu')(x)\n",
        "x = Dense(1, activation='sigmoid')(x)\n",
        "\n",
        "model = Model(inputs=base_model.input, outputs=x)\n",
        "\n",
        "model.compile(optimizer='adam', loss='binary_crossentropy', metrics=['accuracy'])"
      ],
      "metadata": {
        "colab": {
          "base_uri": "https://localhost:8080/"
        },
        "id": "V8lJajgqhmqm",
        "outputId": "252fb4ac-b027-4293-8d42-67bcadf4e509"
      },
      "execution_count": null,
      "outputs": [
        {
          "output_type": "stream",
          "name": "stdout",
          "text": [
            "Downloading data from https://storage.googleapis.com/tensorflow/keras-applications/inception_v3/inception_v3_weights_tf_dim_ordering_tf_kernels_notop.h5\n",
            "87910968/87910968 [==============================] - 0s 0us/step\n"
          ]
        }
      ]
    },
    {
      "cell_type": "code",
      "source": [
        "model.fit(generator, steps_per_epoch=len(data) // 32, epochs=90)"
      ],
      "metadata": {
        "id": "imgviGROiJW_"
      },
      "execution_count": null,
      "outputs": []
    },
    {
      "cell_type": "code",
      "source": [
        "keras.models.save_model(model, '/content/drive/MyDrive/Final Year Project/Models/ImageClassifierInception.h5')"
      ],
      "metadata": {
        "id": "HfocTqAxhwj9"
      },
      "execution_count": null,
      "outputs": []
    },
    {
      "cell_type": "code",
      "source": [
        "model = keras.models.load_model('/content/drive/MyDrive/Final Year Project/Models/ImageClassifierInception.h5')"
      ],
      "metadata": {
        "id": "pB6Rr54uhwj_"
      },
      "execution_count": null,
      "outputs": []
    },
    {
      "cell_type": "code",
      "source": [
        "model.summary()"
      ],
      "metadata": {
        "id": "uEfjgTTphwkA"
      },
      "execution_count": null,
      "outputs": []
    },
    {
      "cell_type": "code",
      "source": [
        "base_model = ResNet50(weights='imagenet', include_top=False, input_shape=(256, 256, 3))\n",
        "\n",
        "for layer in base_model.layers:\n",
        "    layer.trainable = False\n",
        "\n",
        "x = GlobalAveragePooling2D()(base_model.output)\n",
        "x = Dense(512, activation='relu')(x)\n",
        "x = Dense(1, activation='sigmoid')(x)\n",
        "\n",
        "model = Model(inputs=base_model.input, outputs=x)\n",
        "\n",
        "model.compile(optimizer='adam', loss='binary_crossentropy', metrics=['accuracy'])"
      ],
      "metadata": {
        "colab": {
          "base_uri": "https://localhost:8080/"
        },
        "outputId": "d9251ced-9f40-4e32-ddd6-4dad10657908",
        "id": "FgiwH4lgjBp8"
      },
      "execution_count": null,
      "outputs": [
        {
          "output_type": "stream",
          "name": "stdout",
          "text": [
            "Downloading data from https://storage.googleapis.com/tensorflow/keras-applications/resnet/resnet50_weights_tf_dim_ordering_tf_kernels_notop.h5\n",
            "94765736/94765736 [==============================] - 4s 0us/step\n"
          ]
        }
      ]
    },
    {
      "cell_type": "code",
      "source": [
        "model.fit(generator, steps_per_epoch=len(data) // 32, epochs=90)"
      ],
      "metadata": {
        "id": "YsCoFwpUjBp-"
      },
      "execution_count": null,
      "outputs": []
    },
    {
      "cell_type": "code",
      "source": [
        "keras.models.save_model(model, '/content/drive/MyDrive/Final Year Project/Models/ImageClassifierResNet.h5')"
      ],
      "metadata": {
        "id": "R28V4ucbjBqA"
      },
      "execution_count": null,
      "outputs": []
    },
    {
      "cell_type": "code",
      "source": [
        "model = keras.models.load_model('/content/drive/MyDrive/Final Year Project/Models/ImageClassifierResNet.h5')"
      ],
      "metadata": {
        "id": "sL4IZZt2jBqC"
      },
      "execution_count": null,
      "outputs": []
    },
    {
      "cell_type": "code",
      "source": [
        "model.summary()"
      ],
      "metadata": {
        "id": "7pvXBmNTjBqC"
      },
      "execution_count": null,
      "outputs": []
    },
    {
      "cell_type": "code",
      "source": [
        "base_model = MobileNetV2(weights='imagenet', include_top=False, input_shape=(256, 256, 3))\n",
        "\n",
        "for layer in base_model.layers:\n",
        "    layer.trainable = False\n",
        "\n",
        "x = GlobalAveragePooling2D()(base_model.output)\n",
        "x = Dense(512, activation='relu')(x)\n",
        "x = Dense(1, activation='sigmoid')(x)\n",
        "\n",
        "model = Model(inputs=base_model.input, outputs=x)\n",
        "\n",
        "model.compile(optimizer='adam', loss='binary_crossentropy', metrics=['accuracy'])"
      ],
      "metadata": {
        "colab": {
          "base_uri": "https://localhost:8080/"
        },
        "outputId": "8a2d2239-dd1d-4fb9-882c-a2ec61182ed1",
        "id": "Ov0gUjofjCg1"
      },
      "execution_count": null,
      "outputs": [
        {
          "output_type": "stream",
          "name": "stderr",
          "text": [
            "WARNING:tensorflow:`input_shape` is undefined or non-square, or `rows` is not in [96, 128, 160, 192, 224]. Weights for input shape (224, 224) will be loaded as the default.\n"
          ]
        },
        {
          "output_type": "stream",
          "name": "stdout",
          "text": [
            "Downloading data from https://storage.googleapis.com/tensorflow/keras-applications/mobilenet_v2/mobilenet_v2_weights_tf_dim_ordering_tf_kernels_1.0_224_no_top.h5\n",
            "9406464/9406464 [==============================] - 1s 0us/step\n"
          ]
        }
      ]
    },
    {
      "cell_type": "code",
      "source": [
        "model.fit(generator, steps_per_epoch=len(data) // 32, epochs=90)"
      ],
      "metadata": {
        "id": "zRkII2fljCg3"
      },
      "execution_count": null,
      "outputs": []
    },
    {
      "cell_type": "code",
      "source": [
        "keras.models.save_model(model, '/content/drive/MyDrive/Final Year Project/Models/ImageClassifierMobileNet.h5')"
      ],
      "metadata": {
        "id": "M_yPnMtljCg4"
      },
      "execution_count": null,
      "outputs": []
    },
    {
      "cell_type": "code",
      "source": [
        "model = keras.models.load_model('/content/drive/MyDrive/Final Year Project/Models/ImageClassifierMobileNet.h5')"
      ],
      "metadata": {
        "id": "IXXDRl4gjCg5"
      },
      "execution_count": null,
      "outputs": []
    },
    {
      "cell_type": "code",
      "source": [
        "model.summary()"
      ],
      "metadata": {
        "id": "2DF-cICXjCg5"
      },
      "execution_count": null,
      "outputs": []
    },
    {
      "cell_type": "code",
      "source": [
        "image = cv2.imread(input_files[1])\n",
        "# get the original height and width of the image\n",
        "height, width = image.shape[:2]\n",
        "\n",
        "# calculate the aspect ratio of the image\n",
        "aspect_ratio = float(width) / float(height)\n",
        "\n",
        "# determine which dimension will be the longer side and scale it down to 256 pixels\n",
        "if height > width:\n",
        "    new_height = 256\n",
        "    new_width = int(new_height * aspect_ratio)\n",
        "else:\n",
        "    new_width = 256\n",
        "    new_height = int(new_width / aspect_ratio)\n",
        "\n",
        "# resize the image\n",
        "resized_img = cv2.resize(image, (new_width, new_height))\n",
        "\n",
        "# create a black background with a 256x256 shape\n",
        "background = np.zeros((256, 256, 3), dtype=np.uint8)\n",
        "\n",
        "# calculate the center coordinates for the resized image\n",
        "x_offset = int((256 - new_width) / 2)\n",
        "y_offset = int((256 - new_height) / 2)\n",
        "\n",
        "# insert the resized image into the center of the black background\n",
        "background[y_offset:y_offset+new_height, x_offset:x_offset+new_width] = resized_img\n",
        "image = background\n",
        "\n",
        "image = np.expand_dims(image, axis=0)"
      ],
      "metadata": {
        "id": "EX_zi6iCFMZI"
      },
      "execution_count": null,
      "outputs": []
    },
    {
      "cell_type": "code",
      "source": [
        "pred = model.predict(image)"
      ],
      "metadata": {
        "colab": {
          "base_uri": "https://localhost:8080/"
        },
        "id": "XFQ1ha4ti2kI",
        "outputId": "6ad45488-06a0-4031-e7a4-88c7e0221c01"
      },
      "execution_count": null,
      "outputs": [
        {
          "output_type": "stream",
          "name": "stdout",
          "text": [
            "1/1 [==============================] - 1s 1s/step\n"
          ]
        }
      ]
    },
    {
      "cell_type": "code",
      "source": [
        "pred[0][0]"
      ],
      "metadata": {
        "colab": {
          "base_uri": "https://localhost:8080/"
        },
        "id": "VidCLjdrjBrD",
        "outputId": "9fd94a42-6f46-4dd6-9846-8afeb9b6c543"
      },
      "execution_count": null,
      "outputs": [
        {
          "output_type": "execute_result",
          "data": {
            "text/plain": [
              "0.64166623"
            ]
          },
          "metadata": {},
          "execution_count": 73
        }
      ]
    },
    {
      "cell_type": "code",
      "source": [
        "pred[0][0]"
      ],
      "metadata": {
        "colab": {
          "base_uri": "https://localhost:8080/"
        },
        "id": "vVDAJIbOloVP",
        "outputId": "d86ed2df-06d0-466e-f58b-ba3b18410e4e"
      },
      "execution_count": null,
      "outputs": [
        {
          "output_type": "execute_result",
          "data": {
            "text/plain": [
              "0.0"
            ]
          },
          "metadata": {},
          "execution_count": 64
        }
      ]
    },
    {
      "cell_type": "code",
      "source": [
        "binary_pred = np.argmax(pred, axis=1)"
      ],
      "metadata": {
        "id": "-AhxgVtmkc0m"
      },
      "execution_count": null,
      "outputs": []
    },
    {
      "cell_type": "code",
      "source": [
        "threshold = 0.5\n",
        "binary_pred = int(pred[:, 0] >= threshold)\n"
      ],
      "metadata": {
        "id": "N72c600MkriK"
      },
      "execution_count": null,
      "outputs": []
    },
    {
      "cell_type": "code",
      "source": [
        "binary_pred"
      ],
      "metadata": {
        "colab": {
          "base_uri": "https://localhost:8080/"
        },
        "id": "oDQbFc0MktCM",
        "outputId": "d515bd9c-115f-44e8-88e0-0c69491af58f"
      },
      "execution_count": null,
      "outputs": [
        {
          "output_type": "execute_result",
          "data": {
            "text/plain": [
              "1"
            ]
          },
          "metadata": {},
          "execution_count": 80
        }
      ]
    },
    {
      "cell_type": "code",
      "source": [
        "pred[:, 0] > threshold"
      ],
      "metadata": {
        "colab": {
          "base_uri": "https://localhost:8080/"
        },
        "id": "CujmqgnJk6Sf",
        "outputId": "12f4f79a-3843-4021-aa23-5317c85f5889"
      },
      "execution_count": null,
      "outputs": [
        {
          "output_type": "execute_result",
          "data": {
            "text/plain": [
              "array([ True])"
            ]
          },
          "metadata": {},
          "execution_count": 32
        }
      ]
    }
  ]
}