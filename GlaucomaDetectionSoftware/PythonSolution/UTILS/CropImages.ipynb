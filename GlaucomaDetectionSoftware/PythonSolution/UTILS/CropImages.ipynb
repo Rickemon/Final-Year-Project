{
  "nbformat": 4,
  "nbformat_minor": 0,
  "metadata": {
    "colab": {
      "provenance": []
    },
    "kernelspec": {
      "name": "python3",
      "display_name": "Python 3"
    },
    "language_info": {
      "name": "python"
    },
    "accelerator": "GPU",
    "gpuClass": "standard"
  },
  "cells": [
    {
      "cell_type": "code",
      "source": [
        "from google.colab import drive\n",
        "drive.mount('/content/drive')\n",
        "import tensorflow as tf\n",
        "from tensorflow import keras\n",
        "from tensorflow.keras import layers\n",
        "from keras.models import Model\n",
        "from keras.layers import Input, Conv2D, MaxPooling2D, Dropout, UpSampling2D, concatenate, Dense\n",
        "from keras.optimizers import Adam\n",
        "import numpy as np\n",
        "import matplotlib.pyplot as plt\n",
        "import os\n",
        "import pandas as pd\n",
        "import cv2 as cv\n",
        "from google.colab.patches import cv2_imshow\n",
        "import pickle"
      ],
      "metadata": {
        "colab": {
          "base_uri": "https://localhost:8080/"
        },
        "id": "_JZx7uEvn9in",
        "outputId": "1e7c1d46-f739-483a-939c-d34e893591d1"
      },
      "execution_count": null,
      "outputs": [
        {
          "output_type": "stream",
          "name": "stdout",
          "text": [
            "Mounted at /content/drive\n"
          ]
        }
      ]
    },
    {
      "cell_type": "code",
      "source": [
        "root = '/content/drive/MyDrive/Final Year Project  /Training Data/PapilaDB-PAPILA-9c67b80983805f0f886b068af800ef2b507e7dc0/'"
      ],
      "metadata": {
        "id": "lodG4ovKoVSu"
      },
      "execution_count": null,
      "outputs": []
    },
    {
      "cell_type": "code",
      "execution_count": null,
      "metadata": {
        "id": "ZEEyomGgn0uP"
      },
      "outputs": [],
      "source": [
        "img_names = sorted(os.listdir(root + \"FundusImages\"))\n",
        "images = np.empty((int(len(img_names)), 256, 256, 3),dtype=np.uint8)\n",
        "done = 0\n",
        "for i in img_names:\n",
        "  image = (cv.imread(root + \"FundusImagesResized/\" + i))\n",
        "  images[done] = image\n",
        "  done +=1\n",
        "  print(str(int(100* (done/488)))+'% done')"
      ]
    },
    {
      "cell_type": "code",
      "source": [
        "img_names = sorted(os.listdir(root + \"FundusImages\"))\n",
        "imagesFullSize = np.empty((int(len(img_names)), 1934,2576,3),dtype=np.uint8)\n",
        "done = 0\n",
        "for i in img_names:\n",
        "  image = (cv.imread(root + \"FundusImages/\" + i))\n",
        "  imagesFullSize[done] = image\n",
        "  done +=1\n",
        "  print(str(int(100* (done/488)))+'% done')"
      ],
      "metadata": {
        "id": "FdV1YpFYoLBG"
      },
      "execution_count": null,
      "outputs": []
    },
    {
      "cell_type": "code",
      "source": [
        "model = keras.models.load_model('/content/drive/MyDrive/Final Year Project  /Models/Exstract4.h5')"
      ],
      "metadata": {
        "id": "T7ldhT55oZ62"
      },
      "execution_count": null,
      "outputs": []
    },
    {
      "cell_type": "code",
      "source": [
        "predicions = model.predict(images)\n",
        "predicions = tf.one_hot(tf.argmax(predicions, axis=-1), depth=3)\n",
        "from tensorflow.python.ops.numpy_ops import np_config\n",
        "np_config.enable_numpy_behavior()\n",
        "predicions = cv.convertScaleAbs(predicions.numpy().clip(0, 1))"
      ],
      "metadata": {
        "colab": {
          "base_uri": "https://localhost:8080/"
        },
        "id": "1EyKb6-motBn",
        "outputId": "8fdd6f4e-0f76-4ae3-a9b3-a484fee31b01"
      },
      "execution_count": null,
      "outputs": [
        {
          "output_type": "stream",
          "name": "stdout",
          "text": [
            "16/16 [==============================] - 19s 406ms/step\n"
          ]
        }
      ]
    },
    {
      "cell_type": "code",
      "source": [
        "contours_list = []\n",
        "done = 0\n",
        "for i in predicions:\n",
        "  gray = cv.cvtColor(i*255, cv.COLOR_BGR2GRAY)\n",
        "  ret, thresh = cv.threshold(gray, 90, 255, 0)\n",
        "\n",
        "  contours, hierarchy = cv.findContours(thresh, cv.RETR_TREE, cv.CHAIN_APPROX_SIMPLE)\n",
        "\n",
        "  contours = sorted(contours, key=cv.contourArea, reverse=True)\n",
        "\n",
        "  contours_list.append(contours[0])\n",
        "\n",
        "  done +=1\n"
      ],
      "metadata": {
        "id": "CT7yHjxRxTTR"
      },
      "execution_count": null,
      "outputs": []
    },
    {
      "cell_type": "code",
      "source": [
        "contours_array = np.concatenate(contours_list)"
      ],
      "metadata": {
        "id": "IGql6GZY3luK"
      },
      "execution_count": null,
      "outputs": []
    },
    {
      "cell_type": "code",
      "source": [
        "np.save(root+'ExpertsSegmentations/Contours.npy', contours_array)"
      ],
      "metadata": {
        "id": "-VIcQ3KYzYaJ"
      },
      "execution_count": null,
      "outputs": []
    },
    {
      "cell_type": "code",
      "source": [
        "contours_array = np.load(root+'ExpertsSegmentations/Contours.npy', allow_pickle=True)"
      ],
      "metadata": {
        "id": "yazQOvIH32lT"
      },
      "execution_count": null,
      "outputs": []
    },
    {
      "cell_type": "code",
      "source": [
        "ROI =np.loadtxt(root+'ExpertsSegmentations/Centers.csv', delimiter=',')"
      ],
      "metadata": {
        "id": "GzZ0ZI2K06jK"
      },
      "execution_count": null,
      "outputs": []
    },
    {
      "cell_type": "code",
      "source": [
        "ROI =np.loadtxt(root+'ExpertsSegmentations/Centers.csv', delimiter=',',dtype=np.uint8)\n",
        "img_names = sorted(os.listdir(root + \"FundusImages\"))\n",
        "done = 0\n",
        "y = 2576/256\n",
        "x = 1934/256\n",
        "\n",
        "for i in img_names:\n",
        "  image = (cv.imread(root + \"FundusImages/\" + i))\n",
        "  crop_x = int(ROI[0][0]*x)\n",
        "  crop_y = int(ROI[0][1]*y)\n",
        "  crop_w, crop_h = 650, 650\n",
        "  crop_img = image[crop_y-crop_h:crop_y, crop_x:crop_x+crop_w]\n",
        "  resize_img = cv.resize(crop_img, (256, 256))\n",
        "  cv.imwrite((root + \"Cropped/\" + i), resize_img)\n",
        "  done +=1\n",
        "  print(str(int(100* (done/488)))+'% done')"
      ],
      "metadata": {
        "id": "icHOTfxM5_XT"
      },
      "execution_count": null,
      "outputs": []
    }
  ]
}